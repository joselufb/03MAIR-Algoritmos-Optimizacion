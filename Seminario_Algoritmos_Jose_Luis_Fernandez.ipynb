{
  "nbformat": 4,
  "nbformat_minor": 0,
  "metadata": {
    "colab": {
      "name": "Seminario_Algoritmos_Jose_Luis_Fernandez.ipynb",
      "provenance": [],
      "collapsed_sections": [],
      "include_colab_link": true
    },
    "kernelspec": {
      "name": "python3",
      "display_name": "Python 3"
    }
  },
  "cells": [
    {
      "cell_type": "markdown",
      "metadata": {
        "id": "view-in-github",
        "colab_type": "text"
      },
      "source": [
        "<a href=\"https://colab.research.google.com/github/joselufb/03MAIR-Algoritmos-Optimizacion/blob/main/Seminario_Algoritmos_Jose_Luis_Fernandez.ipynb\" target=\"_parent\"><img src=\"https://colab.research.google.com/assets/colab-badge.svg\" alt=\"Open In Colab\"/></a>"
      ]
    },
    {
      "cell_type": "markdown",
      "metadata": {
        "id": "hVbXYX-RfPWh"
      },
      "source": [
        "# Algoritmos de optimización - Seminario<br>\n",
        "Nombre y Apellidos: José Luis Fernández Bastida   <br>\n",
        "URL: https://colab.research.google.com/drive/1cMr--tpHRFBlres-LsnAScXthbOGaLqq?usp=sharing <br>\n",
        "Github: https://github.com/joselufb/03MAIR-Algoritmos-Optimizacion\n",
        "\n",
        "___\n",
        "\n",
        "Problema:\n",
        ">**3. Combinar cifras y operaciones**\n",
        "\n",
        "Descripción del problema:\n",
        "\n",
        "Disponemos de las 9 cifras del 1 al 9 (excluimos el cero) y de los 4 signos básicos de las operaciones fundamentales: suma(+), resta(-), multiplicación(*) y división(/) <br>\n",
        "Debemos combinarlos alternativamente sin repetir ninguno de ellos para obtener una cantidad dada. <br>\n",
        "Un ejemplo sería para obtener el 4: <br>\n",
        "4 + 2 - 6 / 3 * 1 = 4\n",
        "\n",
        "\n",
        "\n",
        "(*) La respuesta es obligatoria\n",
        "                                        "
      ]
    },
    {
      "cell_type": "markdown",
      "metadata": {
        "id": "LQrT9e3LZf_o"
      },
      "source": [
        "**(*)¿Cuantas posibilidades hay sin tener en cuenta las restricciones?**"
      ]
    },
    {
      "cell_type": "markdown",
      "metadata": {
        "id": "3_-exlrTgLd-"
      },
      "source": [
        "Respuesta:\n",
        "\n",
        "Entendiendo como el número de posibilidades el número de diferentes combinaciones de cifras y operaciones para los datos de entrada indicados en el enunciado: 9 números diferentes (sin contar el 0) y las 4 operaciones matemáticas básicas.\n",
        "\n",
        "Si no tenemos en cuenta la restricción de no repetir números ni operaciones las posibilidades totales serían:\n",
        "\n",
        "$$Posibilidades = 9^5 · 4^4 = 15.116.544$$\n",
        "\n",
        "\n",
        "\n",
        "\n"
      ]
    },
    {
      "cell_type": "markdown",
      "metadata": {
        "id": "nFM4yrNHUqRc"
      },
      "source": [
        "**¿Cuantas posibilidades hay teniendo en cuenta todas las restricciones.**"
      ]
    },
    {
      "cell_type": "markdown",
      "metadata": {
        "id": "WfCUqJyKhPcw"
      },
      "source": [
        "Respuesta:\r\n",
        "\r\n",
        "Teniendo en cuenta lo indicado anteriormente para calcular el número de posibilidades:\r\n",
        "\r\n",
        "Se trata de variaciones de n elementos tomados de k en k. El cálculo de las posibilidades se realizará mediante la expresión:\r\n",
        "\r\n",
        "$$V_k^n=\\frac{n!}{(n-k)!}$$\r\n",
        "\r\n",
        "Por tanto, el número total de posibilidades será:\r\n",
        "\r\n",
        "$$Posibilidades = V_5^9\\cdot V_4^4=\\frac{9!}{5!}\\cdot\\frac{4!}{0!}=362.880$$"
      ]
    },
    {
      "cell_type": "code",
      "metadata": {
        "id": "iq6Fe32MgpDX"
      },
      "source": [
        ""
      ],
      "execution_count": 117,
      "outputs": []
    },
    {
      "cell_type": "markdown",
      "metadata": {
        "id": "dzynfVJahHoY"
      },
      "source": [
        "**Modelo para el espacio de soluciones<br>\n",
        "(*) ¿Cual es la estructura de datos que mejor se adapta al problema? Argumentalo.(Es posible que hayas elegido una al principio y veas la necesidad de cambiar, arguemntalo)**\n",
        "\n",
        "\n"
      ]
    },
    {
      "cell_type": "markdown",
      "metadata": {
        "id": "xFIJrOwKi2Ti"
      },
      "source": [
        "Respuesta:\r\n",
        "\r\n",
        "Se utilizarán dos listas. La primera contendrá los números ordenados del 1 al 9 en formato \"int\". La segunda lista serán los 4 operadores en formato \"str\".\r\n",
        "\r\n",
        "Numeros = [0, 1, 2, 3, 4, 5, 6, 7, 8, 9]\r\n",
        "\r\n",
        "Operadores = [\"+\", \"-\", \"*\", \"/\"]"
      ]
    },
    {
      "cell_type": "code",
      "metadata": {
        "id": "38c-7-ejhJmA"
      },
      "source": [
        ""
      ],
      "execution_count": null,
      "outputs": []
    },
    {
      "cell_type": "markdown",
      "metadata": {
        "id": "EcVwNdebZyc9"
      },
      "source": [
        "**Según el modelo para el espacio de soluciones<br>\r\n",
        "(*)¿Cual es la función objetivo?**"
      ]
    },
    {
      "cell_type": "markdown",
      "metadata": {
        "id": "7Z9U2W7bi-XS"
      },
      "source": [
        "Respuesta:\n",
        "\n",
        "Por las características del problema, no estamos antes uno de tipo optimización.\n",
        "El objetivo aquí es una función que evalue la solución buscada, valorando cómo de lejos o cerca estamos.\n",
        "\n"
      ]
    },
    {
      "cell_type": "markdown",
      "metadata": {
        "id": "6iE7xDWFZrQK"
      },
      "source": [
        "**(*)¿Es un problema de maximización o minimización?**\r\n",
        "\r\n"
      ]
    },
    {
      "cell_type": "markdown",
      "metadata": {
        "id": "hBalWLM7j1_d"
      },
      "source": [
        "Respuesta:\r\n",
        "\r\n",
        "Como hemos indicado anteriormente, no se trata de ninguno de los dos tipos. Este problema es de búsqueda."
      ]
    },
    {
      "cell_type": "code",
      "metadata": {
        "id": "pDA-rg3Gj5Lz"
      },
      "source": [
        ""
      ],
      "execution_count": null,
      "outputs": []
    },
    {
      "cell_type": "markdown",
      "metadata": {
        "id": "rlnTYgY1j6I2"
      },
      "source": [
        "**Diseña un algoritmo para resolver el problema por fuerza bruta**"
      ]
    },
    {
      "cell_type": "code",
      "metadata": {
        "id": "tz9jq39eHQ7j"
      },
      "source": [
        "# Definimos dos funciones que nos ayduarán a encontrar las solución\r\n",
        "\r\n",
        "def generate_sol(nums: list=[], ops: list=[]):\r\n",
        "    '''Función que genera una solución posible.\r\n",
        "    nums = lista de números a utilizar\r\n",
        "    ops = lista de operadores a utilzar\r\n",
        "\r\n",
        "    De cada lista tomará un valor alternativamente hasta generar una expresión.\r\n",
        "    '''\r\n",
        "        \r\n",
        "    res = str(nums[0])\r\n",
        "\r\n",
        "    for i, j in zip(nums[1:], ops):\r\n",
        "        res += \"{}{}\".format(j, i)\r\n",
        "    \r\n",
        "    return res\r\n",
        "\r\n",
        "\r\n",
        "def evaluate_sol(nums: list=[], ops: list=[]):\r\n",
        "    '''Función que utiliza eval() para evaluar una solución generada por \r\n",
        "    la función generate_sol() indicada anteriormente. \r\n",
        "    '''\r\n",
        "    return eval(generate_sol(nums, ops))"
      ],
      "execution_count": 105,
      "outputs": []
    },
    {
      "cell_type": "code",
      "metadata": {
        "id": "1AOVjGbSTZuz"
      },
      "source": [
        "from itertools import permutations\r\n",
        "\r\n",
        "operations = [\"+\", \"-\", \"*\", \"/\"]\r\n",
        "\r\n",
        "def solve_expresion_fbruta(value):\r\n",
        "    '''Función que resuelve el problema de Cifras y Operaciones utilizando\r\n",
        "    el método de fuerza bruta.\r\n",
        "    '''\r\n",
        "    \r\n",
        "    # Utilizando permutations generamos todas las posibles variaciones de números y operadores\r\n",
        "    for n in permutations([i+1 for i in range(9)], 5):\r\n",
        "        for ops in permutations(operations):\r\n",
        "            \r\n",
        "            if evaluate_sol(n, ops) == value:\r\n",
        "                return generate_sol(n, ops)\r\n",
        "            "
      ],
      "execution_count": 102,
      "outputs": []
    },
    {
      "cell_type": "code",
      "metadata": {
        "id": "ygZI_eH1S-_w",
        "colab": {
          "base_uri": "https://localhost:8080/"
        },
        "outputId": "4d5155f4-9922-4c6e-c6e5-3517a2d8329b"
      },
      "source": [
        "# Comprobamos la solución para varios números\r\n",
        "print(f\"{26} = {solve_expresion_fbruta(26)}\\n\")\r\n",
        "\r\n",
        "print(f\"{71} = {solve_expresion_fbruta(71)}\\n\")\r\n",
        "\r\n",
        "print(f\"{-13} = {solve_expresion_fbruta(-13)}\\n\")"
      ],
      "execution_count": 113,
      "outputs": [
        {
          "output_type": "stream",
          "text": [
            "26 = 1-3+7/2*8\n",
            "\n",
            "71 = 1-4/2+8*9\n",
            "\n",
            "-13 = 1+2-6/3*8\n",
            "\n"
          ],
          "name": "stdout"
        }
      ]
    },
    {
      "cell_type": "code",
      "metadata": {
        "id": "AVbtSmJYQ0DX",
        "colab": {
          "base_uri": "https://localhost:8080/"
        },
        "outputId": "64efa534-14e1-4d9d-de6b-4cde835834f2"
      },
      "source": [
        "import time\r\n",
        "import random \r\n",
        "\r\n",
        "# Generamos una lista de 100 números aleatorios comprendidos entre -69 y +77 para\r\n",
        "# calcular el tiempo que tarda en generar las expresiones de todos ellos\r\n",
        "# Los valores max y min del rango son los que permiten los datos de entrada (números de 1 a 9)\r\n",
        "# Ente rango de soluciones se explica al final del ejercicio\r\n",
        "numeros = []\r\n",
        "for i in range(100):\r\n",
        "    numeros.append(random.randrange(-69, 77, 1))\r\n",
        "\r\n",
        "# Tiempo inicial\r\n",
        "t0 = time.time()\r\n",
        "\r\n",
        "for num in numeros:\r\n",
        "    solve_expresion_fbruta(num)\r\n",
        "\r\n",
        "# Tiempo final\r\n",
        "t1 = time.time()\r\n",
        "\r\n",
        "print(f\"Tiempo de ejecución para hallar la expresión de\",\r\n",
        "      f\"{len(numeros)} números: {round((t1-t0), 2)} segundos.\")"
      ],
      "execution_count": 111,
      "outputs": [
        {
          "output_type": "stream",
          "text": [
            "Tiempo de ejecución para hallar la expresión de 100 números: 20.97 segundos.\n"
          ],
          "name": "stdout"
        }
      ]
    },
    {
      "cell_type": "code",
      "metadata": {
        "id": "59jDODVCQz3G"
      },
      "source": [
        ""
      ],
      "execution_count": null,
      "outputs": []
    },
    {
      "cell_type": "markdown",
      "metadata": {
        "id": "tgrnsC2nkFa8"
      },
      "source": [
        "**Calcula la complejidad del algoritmo por fuerza bruta**"
      ]
    },
    {
      "cell_type": "markdown",
      "metadata": {
        "id": "9eUd3xwckP68"
      },
      "source": [
        "Respuesta"
      ]
    },
    {
      "cell_type": "code",
      "metadata": {
        "id": "rvZWwL-ckRST"
      },
      "source": [
        ""
      ],
      "execution_count": null,
      "outputs": []
    },
    {
      "cell_type": "markdown",
      "metadata": {
        "id": "txbrmLmskReM"
      },
      "source": [
        "**(*)Diseña un algoritmo que mejore la complejidad del algortimo por fuerza bruta. Argumenta porque crees que mejora el algoritmo por fuerza bruta**"
      ]
    },
    {
      "cell_type": "markdown",
      "metadata": {
        "id": "hLrVwt5QkZPD"
      },
      "source": [
        "Respuesta"
      ]
    },
    {
      "cell_type": "code",
      "metadata": {
        "id": "tQKilnEzD9fz"
      },
      "source": [
        ""
      ],
      "execution_count": null,
      "outputs": []
    },
    {
      "cell_type": "code",
      "metadata": {
        "id": "br3mNHFeKqkL"
      },
      "source": [
        ""
      ],
      "execution_count": null,
      "outputs": []
    },
    {
      "cell_type": "code",
      "metadata": {
        "id": "X0a1nnHnKqhd"
      },
      "source": [
        ""
      ],
      "execution_count": null,
      "outputs": []
    },
    {
      "cell_type": "code",
      "metadata": {
        "id": "Eh_-OAh5Kqe3"
      },
      "source": [
        ""
      ],
      "execution_count": null,
      "outputs": []
    },
    {
      "cell_type": "code",
      "metadata": {
        "id": "EMUIcJbqKqcH"
      },
      "source": [
        ""
      ],
      "execution_count": null,
      "outputs": []
    },
    {
      "cell_type": "code",
      "metadata": {
        "id": "2j9GxQB1KqY_"
      },
      "source": [
        ""
      ],
      "execution_count": null,
      "outputs": []
    },
    {
      "cell_type": "markdown",
      "metadata": {
        "id": "eGDB4K6uk1iN"
      },
      "source": [
        "**(*)Calcula la complejidad del algoritmo**"
      ]
    },
    {
      "cell_type": "markdown",
      "metadata": {
        "id": "NhpTh_BPk1ms"
      },
      "source": [
        "Respuesta"
      ]
    },
    {
      "cell_type": "code",
      "metadata": {
        "id": "nREzhkStlCq8"
      },
      "source": [
        ""
      ],
      "execution_count": null,
      "outputs": []
    },
    {
      "cell_type": "markdown",
      "metadata": {
        "id": "3M6QjTsSkmYe"
      },
      "source": [
        "**Según el problema (y tenga sentido), diseña un juego de datos de entrada aleatorios**"
      ]
    },
    {
      "cell_type": "markdown",
      "metadata": {
        "id": "Jc3_OlyNkvjZ"
      },
      "source": [
        "Respuesta:\r\n",
        "\r\n",
        "En este problema no aplica un juego de datos aleatorio ya que siempre se utilizan los mismos números y operadores matemáticos."
      ]
    },
    {
      "cell_type": "code",
      "metadata": {
        "id": "sJ-N2etjkyWc"
      },
      "source": [
        ""
      ],
      "execution_count": null,
      "outputs": []
    },
    {
      "cell_type": "markdown",
      "metadata": {
        "id": "zy5ZROmjlGo1"
      },
      "source": [
        "**Aplica el algoritmo al juego de datos generado**"
      ]
    },
    {
      "cell_type": "markdown",
      "metadata": {
        "id": "_Cmj-PVylMsa"
      },
      "source": [
        "Respuesta"
      ]
    },
    {
      "cell_type": "code",
      "metadata": {
        "id": "Jkx8GeiYlUz1"
      },
      "source": [
        ""
      ],
      "execution_count": null,
      "outputs": []
    },
    {
      "cell_type": "markdown",
      "metadata": {
        "id": "rhiT-opQxfi8"
      },
      "source": [
        "**Debe analizarse el problema para encontrar todos los valores enteros posibles planteando las siguientes cuestiones:**\r\n",
        "\r\n",
        "**- ¿Qué valor máximo y mínimo se pueden obtener según las condiciones del problema?**\r\n",
        "\r\n",
        "**- ¿Es posible encontrar todos los valores enteros posibles entre dicho mínimo y máximo ?**"
      ]
    },
    {
      "cell_type": "markdown",
      "metadata": {
        "id": "pZLgrqDHxp-q"
      },
      "source": [
        "Respuesta:\r\n",
        "\r\n",
        "Teniendo en cuenta los datos de entrada, el valor máximo será aquel que maximize la multiplicación y la suma. Usando los valores mínimos posibles para resta y división. \r\n",
        "\r\n",
        "Por tanto, el valor máximo sería: \r\n",
        "$$9/1·8+7-2 = 77$$\r\n",
        "\r\n",
        "De la misma forma, para encontrar el valor mínimo, maximizamos la resta y buscamos valores mínimos para el resto:\r\n",
        "\r\n",
        "El valor mínimo sería:\r\n",
        "$$1+4/2-9·8 = -69$$\r\n",
        "\r\n"
      ]
    },
    {
      "cell_type": "markdown",
      "metadata": {
        "id": "TT33IhaAy8Sj"
      },
      "source": [
        "Realizamos la comprobación de que podemos obtener todos los valores enteros entre dicho máximo y mínimo."
      ]
    },
    {
      "cell_type": "code",
      "metadata": {
        "colab": {
          "base_uri": "https://localhost:8080/"
        },
        "id": "jpS5YSm7yy77",
        "outputId": "b0ba9b85-4390-4193-c849-0da7b1e6bca1"
      },
      "source": [
        "v_max = 77\r\n",
        "v_min = -66\r\n",
        "# Inicializamos lista para guardar valores que no pueda obtener\r\n",
        "v_no_alcanzado = []\r\n",
        "\r\n",
        "for i in range(v_min, v_max + 1):\r\n",
        "    # Comparamos con False ya que si no puede obtener expresión, la función devuelve None\r\n",
        "    if solve_expresion_fbruta(i) == False:\r\n",
        "        v_no_alcanzado.append(i)\r\n",
        "\r\n",
        "print(v_no_alcanzado)"
      ],
      "execution_count": 115,
      "outputs": [
        {
          "output_type": "stream",
          "text": [
            "[]\n"
          ],
          "name": "stdout"
        }
      ]
    },
    {
      "cell_type": "markdown",
      "metadata": {
        "id": "h4nwfhmm0DCP"
      },
      "source": [
        "La lista anterior anterior está vacia, por lo que se ha podido encontrar una expresión para todos los valores entre estos límites."
      ]
    },
    {
      "cell_type": "code",
      "metadata": {
        "id": "PbFN7vv8xqhr"
      },
      "source": [
        ""
      ],
      "execution_count": null,
      "outputs": []
    },
    {
      "cell_type": "markdown",
      "metadata": {
        "id": "eTFWUJQrtGcv"
      },
      "source": [
        "**Enumera las referencias que has utilizado(si ha sido necesario) para llevar a cabo el trabajo**"
      ]
    },
    {
      "cell_type": "markdown",
      "metadata": {
        "id": "YKQ_mRBttWsP"
      },
      "source": [
        "Respuesta:\r\n",
        "\r\n",
        "https://codinghelmet.com/exercises/expression-from-numbers\r\n",
        "\r\n",
        "https://leetcode.com/problems/24-game/\r\n",
        "\r\n",
        "https://stackoverflow.com/questions/104420/how-to-generate-all-permutations-of-a-list\r\n"
      ]
    },
    {
      "cell_type": "code",
      "metadata": {
        "id": "CZ3vEYiQ4RhW"
      },
      "source": [
        ""
      ],
      "execution_count": null,
      "outputs": []
    },
    {
      "cell_type": "markdown",
      "metadata": {
        "id": "kAkDPUyRtYyH"
      },
      "source": [
        "**Describe brevemente las lineas de como crees que es posible avanzar en el estudio del problema. Ten en cuenta incluso posibles variaciones del problema y/o variaciones al alza del tamaño**"
      ]
    },
    {
      "cell_type": "markdown",
      "metadata": {
        "id": "IE0uZmo-tZu-"
      },
      "source": [
        "Respuesta:\r\n",
        "\r\n",
        "Posibles variaciones del problema:\r\n",
        "- Incluir la posibilidad de utilizar más operadores matemáticos y paréntesis para genera expresiones más complejas.\r\n",
        "- Repetir varias veces el mismo número o concatenarlos entre ellos para conseguir números de 2 y 3 cifras."
      ]
    },
    {
      "cell_type": "code",
      "metadata": {
        "id": "iEQVsyQo1HpG"
      },
      "source": [
        ""
      ],
      "execution_count": null,
      "outputs": []
    }
  ]
}