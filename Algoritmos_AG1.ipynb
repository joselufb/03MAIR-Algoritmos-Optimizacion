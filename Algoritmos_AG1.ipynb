{
  "nbformat": 4,
  "nbformat_minor": 0,
  "metadata": {
    "colab": {
      "name": "Algoritmos_AG1.ipynb",
      "provenance": [],
      "collapsed_sections": [],
      "authorship_tag": "ABX9TyMrwGj2yOyGDYsKa/BCOFJr",
      "include_colab_link": true
    },
    "kernelspec": {
      "name": "python3",
      "display_name": "Python 3"
    }
  },
  "cells": [
    {
      "cell_type": "markdown",
      "metadata": {
        "id": "view-in-github",
        "colab_type": "text"
      },
      "source": [
        "<a href=\"https://colab.research.google.com/github/joselufb/03MAIR-Algoritmos-Optimizacion/blob/main/Algoritmos_AG1.ipynb\" target=\"_parent\"><img src=\"https://colab.research.google.com/assets/colab-badge.svg\" alt=\"Open In Colab\"/></a>"
      ]
    },
    {
      "cell_type": "markdown",
      "metadata": {
        "id": "onylQAw6aqLp"
      },
      "source": [
        "# Algoritmos - Actividad Guiada 1\r\n",
        "\r\n",
        "Nombre: José Luis Fernández Bastida\r\n",
        "\r\n",
        "URL: https://colab.research.google.com/drive/1ywjCqB1t13rI-yRM0lwnmfRqv1l2r44P?usp=sharing\r\n",
        "\r\n",
        "GitHub: https://github.com/joselufb/03MAIR-Algoritmos-Optimizacion"
      ]
    },
    {
      "cell_type": "markdown",
      "metadata": {
        "id": "7DzTq7t2fLQD"
      },
      "source": [
        "## Torres de Hanoi con Divide y vencerás"
      ]
    },
    {
      "cell_type": "code",
      "metadata": {
        "id": "4xaVvSI8a296"
      },
      "source": [
        "def Torres_Hanoi(N, desde, hasta):\r\n",
        "    # Función que resuelve el problema de las torres de Hanoi\r\n",
        "    # N = número de fichas en juego\r\n",
        "    # desde = columna de la que parten las fichas\r\n",
        "    # hasta = columna de la posición final de las fichas\r\n",
        "\r\n",
        "    if N == 1:\r\n",
        "        print(f\"Lleva la ficha {desde} hasta {hasta}\")\r\n",
        "\r\n",
        "    else:\r\n",
        "        Torres_Hanoi(N-1, desde, list({1, 2, 3} - {desde, hasta})[0])\r\n",
        "        print(f\"Lleva la ficha {desde} hasta {hasta}\")\r\n",
        "        Torres_Hanoi(N-1, list({1, 2, 3} - {desde, hasta})[0], hasta)\r\n"
      ],
      "execution_count": 7,
      "outputs": []
    },
    {
      "cell_type": "code",
      "metadata": {
        "colab": {
          "base_uri": "https://localhost:8080/"
        },
        "id": "XczV5pX0f1P3",
        "outputId": "201ab3e3-bd9b-4b01-9bb1-fdd41af061ff"
      },
      "source": [
        "Torres_Hanoi(5, 1, 3)"
      ],
      "execution_count": 8,
      "outputs": [
        {
          "output_type": "stream",
          "text": [
            "Lleva la ficha 1 hasta 3\n",
            "Lleva la ficha 1 hasta 2\n",
            "Lleva la ficha 3 hasta 2\n",
            "Lleva la ficha 1 hasta 3\n",
            "Lleva la ficha 2 hasta 1\n",
            "Lleva la ficha 2 hasta 3\n",
            "Lleva la ficha 1 hasta 3\n",
            "Lleva la ficha 1 hasta 2\n",
            "Lleva la ficha 3 hasta 2\n",
            "Lleva la ficha 3 hasta 1\n",
            "Lleva la ficha 2 hasta 1\n",
            "Lleva la ficha 3 hasta 2\n",
            "Lleva la ficha 1 hasta 3\n",
            "Lleva la ficha 1 hasta 2\n",
            "Lleva la ficha 3 hasta 2\n",
            "Lleva la ficha 1 hasta 3\n",
            "Lleva la ficha 2 hasta 1\n",
            "Lleva la ficha 2 hasta 3\n",
            "Lleva la ficha 1 hasta 3\n",
            "Lleva la ficha 2 hasta 1\n",
            "Lleva la ficha 3 hasta 2\n",
            "Lleva la ficha 3 hasta 1\n",
            "Lleva la ficha 2 hasta 1\n",
            "Lleva la ficha 2 hasta 3\n",
            "Lleva la ficha 1 hasta 3\n",
            "Lleva la ficha 1 hasta 2\n",
            "Lleva la ficha 3 hasta 2\n",
            "Lleva la ficha 1 hasta 3\n",
            "Lleva la ficha 2 hasta 1\n",
            "Lleva la ficha 2 hasta 3\n",
            "Lleva la ficha 1 hasta 3\n"
          ],
          "name": "stdout"
        }
      ]
    },
    {
      "cell_type": "code",
      "metadata": {
        "id": "tgDm937Of6Yz"
      },
      "source": [
        ""
      ],
      "execution_count": null,
      "outputs": []
    }
  ]
}