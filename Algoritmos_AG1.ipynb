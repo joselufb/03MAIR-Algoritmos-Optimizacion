{
  "nbformat": 4,
  "nbformat_minor": 0,
  "metadata": {
    "colab": {
      "name": "Algoritmos_AG1.ipynb",
      "provenance": [],
      "collapsed_sections": [],
      "authorship_tag": "ABX9TyPDVzFP+OAxfqOw9PHcLCjS",
      "include_colab_link": true
    },
    "kernelspec": {
      "name": "python3",
      "display_name": "Python 3"
    }
  },
  "cells": [
    {
      "cell_type": "markdown",
      "metadata": {
        "id": "view-in-github",
        "colab_type": "text"
      },
      "source": [
        "<a href=\"https://colab.research.google.com/github/joselufb/03MAIR-Algoritmos-Optimizacion/blob/main/Algoritmos_AG1.ipynb\" target=\"_parent\"><img src=\"https://colab.research.google.com/assets/colab-badge.svg\" alt=\"Open In Colab\"/></a>"
      ]
    },
    {
      "cell_type": "markdown",
      "metadata": {
        "id": "onylQAw6aqLp"
      },
      "source": [
        "# Algoritmos - Actividad Guiada 1\r\n",
        "\r\n",
        "Nombre: José Luis Fernández Bastida\r\n",
        "\r\n",
        "URL: https://colab.research.google.com/drive/1ywjCqB1t13rI-yRM0lwnmfRqv1l2r44P?usp=sharing\r\n",
        "\r\n",
        "GitHub: https://github.com/joselufb/03MAIR-Algoritmos-Optimizacion"
      ]
    },
    {
      "cell_type": "markdown",
      "metadata": {
        "id": "7DzTq7t2fLQD"
      },
      "source": [
        "## Torres de Hanoi con Divide y vencerás"
      ]
    },
    {
      "cell_type": "code",
      "metadata": {
        "id": "4xaVvSI8a296"
      },
      "source": [
        "def Torres_Hanoi(N, desde, hasta):\r\n",
        "    # Función que resuelve el problema de las torres de Hanoi\r\n",
        "    # N = número de fichas en juego\r\n",
        "    # desde = columna de la que parten las fichas\r\n",
        "    # hasta = columna de la posición final de las fichas\r\n",
        "\r\n",
        "    if N == 1:\r\n",
        "        print(f\"Lleva la ficha {desde} hasta {hasta}\")\r\n",
        "\r\n",
        "    else:\r\n",
        "        Torres_Hanoi(N-1, desde, list({1, 2, 3} - {desde, hasta})[0])\r\n",
        "        print(f\"Lleva la ficha {desde} hasta {hasta}\")\r\n",
        "        Torres_Hanoi(N-1, list({1, 2, 3} - {desde, hasta})[0], hasta)\r\n"
      ],
      "execution_count": 2,
      "outputs": []
    },
    {
      "cell_type": "code",
      "metadata": {
        "colab": {
          "base_uri": "https://localhost:8080/"
        },
        "id": "XczV5pX0f1P3",
        "outputId": "b35f50f8-8812-4654-8501-67fd655398d5"
      },
      "source": [
        "Torres_Hanoi(3, 1, 3)"
      ],
      "execution_count": 6,
      "outputs": [
        {
          "output_type": "stream",
          "text": [
            "Lleva la ficha 1 hasta 3\n",
            "Lleva la ficha 1 hasta 2\n",
            "Lleva la ficha 3 hasta 2\n",
            "Lleva la ficha 1 hasta 3\n",
            "Lleva la ficha 2 hasta 1\n",
            "Lleva la ficha 2 hasta 3\n",
            "Lleva la ficha 1 hasta 3\n"
          ],
          "name": "stdout"
        }
      ]
    },
    {
      "cell_type": "markdown",
      "metadata": {
        "id": "JjpHlJR3Ocdp"
      },
      "source": [
        "## Devolución de cambio por técnica voraz"
      ]
    },
    {
      "cell_type": "code",
      "metadata": {
        "id": "tgDm937Of6Yz"
      },
      "source": [
        "import numpy as np\r\n",
        "\r\n",
        "def cambio_monedas(N, SM):\r\n",
        "    # Funcón que resuelve el problema del cambio de mondedas\r\n",
        "    # N = Cantidad a calcular\r\n",
        "    # SM = Lista con los tipos de moneda que disponemos.\r\n",
        "    # Ejemplo SM = [50, 20, 10, 5, 1]\r\n",
        "\r\n",
        "    solucion = np.zeros(len(SM))\r\n",
        "    valor_acumulado = 0\r\n",
        "\r\n",
        "    for i, valor in enumerate(SM):\r\n",
        "        monedas = (N - valor_acumulado) // valor\r\n",
        "        solucion[i] = monedas\r\n",
        "        valor_acumulado += monedas * valor\r\n",
        "\r\n",
        "        if valor_acumulado == N:\r\n",
        "            return solucion\r\n",
        "\r\n"
      ],
      "execution_count": 7,
      "outputs": []
    },
    {
      "cell_type": "code",
      "metadata": {
        "colab": {
          "base_uri": "https://localhost:8080/"
        },
        "id": "6qQflnB1UAeP",
        "outputId": "2838760d-f3e2-44c2-abb6-06e3819de561"
      },
      "source": [
        "cambio_monedas(73, [25, 10, 5, 1])"
      ],
      "execution_count": 8,
      "outputs": [
        {
          "output_type": "execute_result",
          "data": {
            "text/plain": [
              "array([2., 2., 0., 3.])"
            ]
          },
          "metadata": {
            "tags": []
          },
          "execution_count": 8
        }
      ]
    },
    {
      "cell_type": "code",
      "metadata": {
        "id": "U7YYDvlrUHyQ"
      },
      "source": [
        ""
      ],
      "execution_count": null,
      "outputs": []
    },
    {
      "cell_type": "code",
      "metadata": {
        "id": "CEJErDvZUK5z"
      },
      "source": [
        ""
      ],
      "execution_count": null,
      "outputs": []
    }
  ]
}