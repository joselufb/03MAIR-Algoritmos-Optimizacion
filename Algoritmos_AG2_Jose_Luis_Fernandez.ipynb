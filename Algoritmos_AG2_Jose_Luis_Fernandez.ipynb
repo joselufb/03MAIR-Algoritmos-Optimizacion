{
  "nbformat": 4,
  "nbformat_minor": 0,
  "metadata": {
    "colab": {
      "name": "Algoritmos_AG2_Jose_Luis_Fernandez.ipynb",
      "provenance": [],
      "collapsed_sections": [],
      "authorship_tag": "ABX9TyPbtv5zqzixh2VCJ9FrTYcR",
      "include_colab_link": true
    },
    "kernelspec": {
      "name": "python3",
      "display_name": "Python 3"
    }
  },
  "cells": [
    {
      "cell_type": "markdown",
      "metadata": {
        "id": "view-in-github",
        "colab_type": "text"
      },
      "source": [
        "<a href=\"https://colab.research.google.com/github/joselufb/03MAIR-Algoritmos-Optimizacion/blob/main/Algoritmos_AG2_Jose_Luis_Fernandez.ipynb\" target=\"_parent\"><img src=\"https://colab.research.google.com/assets/colab-badge.svg\" alt=\"Open In Colab\"/></a>"
      ]
    },
    {
      "cell_type": "markdown",
      "metadata": {
        "id": "2AyKGvGpr8_s"
      },
      "source": [
        "# Algoritmos - Actividad Guiada 2\r\n",
        "\r\n",
        "Nombre: José Luis Fernández Bastida\r\n",
        "\r\n",
        "URL: https://colab.research.google.com/drive/1NZt8mMOPp7hid9A09srmWCJlmHDrzQjm?usp=sharing\r\n",
        "\r\n",
        "GitHub: https://github.com/joselufb/03MAIR-Algoritmos-Optimizacion"
      ]
    },
    {
      "cell_type": "markdown",
      "metadata": {
        "id": "VoX0OZARMieM"
      },
      "source": [
        "## Viaje por el río usando programación dinámica"
      ]
    },
    {
      "cell_type": "code",
      "metadata": {
        "id": "qARi-1zzsDqg"
      },
      "source": [
        "import math\r\n",
        "\r\n",
        "# inf = \"infinito\" para realizar tabla de tarifas de nodos\r\n",
        "inf = math.inf\r\n",
        "\r\n",
        "# Se marca infinito para indicar que el desplazamiento entre esos nodos no es posible\r\n",
        "TARIFAS = [\r\n",
        "[0,5,4,3,inf,inf,inf],      # desde nodo 0\r\n",
        "[inf,0,inf,2,3,inf,11],     # desde nodo 1\r\n",
        "[inf,inf, 0,1,inf,4,10],    # desde nodo 2\r\n",
        "[inf,inf,inf, 0,5,6,9],     # desde nodo 3\r\n",
        "[inf,inf, inf,inf,0,inf,4],\r\n",
        "[inf,inf, inf,inf,inf,0,3],\r\n",
        "[inf,inf,inf,inf,inf,inf,0]]"
      ],
      "execution_count": null,
      "outputs": []
    },
    {
      "cell_type": "code",
      "metadata": {
        "colab": {
          "base_uri": "https://localhost:8080/"
        },
        "id": "DGPYvTLmStB1",
        "outputId": "3b65eebc-7e54-4f77-876b-d296475f33f3"
      },
      "source": [
        "def Precios(TARIFAS):\r\n",
        "  # Número de nodos del problema\r\n",
        "  N = len(TARIFAS[0])\r\n",
        "  \r\n",
        "  # A partir de N, inicializamos una tabla de precios y rutas a seguir\r\n",
        "  PRECIOS = [ [inf] * N for i in [inf] * N]\r\n",
        "  RUTA = [[\"\"] * N for i in [\"\"] * N]\r\n",
        "  \r\n",
        "  for i in range(N - 1):\r\n",
        "    for j in range(i + 1, N):\r\n",
        "      MIN = TARIFAS[i][j]\r\n",
        "      RUTA[i][j] = i\r\n",
        "      \r\n",
        "      for k in range(i, j):\r\n",
        "        if PRECIOS[i][k] + TARIFAS[k][j] < MIN:\r\n",
        "            MIN = min(MIN, PRECIOS[i][k] + TARIFAS[k][j])\r\n",
        "            RUTA[i][j] = k\r\n",
        "        \r\n",
        "        PRECIOS[i][j] = MIN\r\n",
        "        \r\n",
        "  return PRECIOS,RUTA\r\n",
        "\r\n",
        "# Imprimimos matriz \"Precios\" anterior\r\n",
        "# Muestra el coste para ir desde un nodo a otro teniendo en cuenta que no se puede ir río arriba\r\n",
        "# \"inf\" indica que ese camino no es posible de realizar\r\n",
        "print(\"PRECIOS:\")\r\n",
        "for i in range(len(TARIFAS)):\r\n",
        "  print(PRECIOS[i])\r\n",
        "\r\n",
        "# Imprimimos matriz \"Rutas\"\r\n",
        "# Muestra el mejor camino para ir desde un punto a otro y el punto por el que hay que pasar\r\n",
        "\r\n",
        "# Ejemplo: 3º fila indica los pasos para ir desde nodo 2\r\n",
        "# str vacio camino no posible.  Para ir de 2 a 4 hay que pasar por nodo 3, por eso 5º posición = 3\r\n",
        "print(\"\\nRUTA:\")  \r\n",
        "for i in range(len(TARIFAS)):\r\n",
        "  print(RUTA[i]) "
      ],
      "execution_count": null,
      "outputs": [
        {
          "output_type": "stream",
          "text": [
            "PRECIOS:\n",
            "[inf, 5, 4, 3, 8, 8, 11]\n",
            "[inf, inf, inf, 2, 3, 8, 7]\n",
            "[inf, inf, inf, 1, 6, 4, 7]\n",
            "[inf, inf, inf, inf, 5, 6, 9]\n",
            "[inf, inf, inf, inf, inf, inf, 4]\n",
            "[inf, inf, inf, inf, inf, inf, 3]\n",
            "[inf, inf, inf, inf, inf, inf, inf]\n",
            "\n",
            "RUTA:\n",
            "['', 0, 0, 0, 1, 2, 5]\n",
            "['', '', 1, 1, 1, 3, 4]\n",
            "['', '', '', 2, 3, 2, 5]\n",
            "['', '', '', '', 3, 3, 3]\n",
            "['', '', '', '', '', 4, 4]\n",
            "['', '', '', '', '', '', 5]\n",
            "['', '', '', '', '', '', '']\n"
          ],
          "name": "stdout"
        }
      ]
    },
    {
      "cell_type": "code",
      "metadata": {
        "id": "7IcE-uuRQ93r"
      },
      "source": [
        "def calcular_ruta(RUTA, desde, hasta):\r\n",
        "    # RUTA = matriz obtenida con la función Precios()\r\n",
        "    # desde = nodo incial\r\n",
        "    # hasta = nodo final\r\n",
        "\r\n",
        "    if desde == hasta:\r\n",
        "        return desde \r\n",
        "    else:\r\n",
        "        return str(calcular_ruta(RUTA, desde, RUTA[desde][hasta])) +  ',' + str(RUTA[desde][hasta]) \r\n"
      ],
      "execution_count": null,
      "outputs": []
    },
    {
      "cell_type": "code",
      "metadata": {
        "colab": {
          "base_uri": "https://localhost:8080/"
        },
        "id": "5GfgcIiMYOg-",
        "outputId": "1b43a020-a041-41ed-9b5d-c4e9497ff110"
      },
      "source": [
        "print(f\"\\nLa mejor ruta es: {calcular_ruta(RUTA, 0, 6)}\")"
      ],
      "execution_count": null,
      "outputs": [
        {
          "output_type": "stream",
          "text": [
            "\n",
            "La mejor ruta es: 0,0,2,5\n"
          ],
          "name": "stdout"
        }
      ]
    },
    {
      "cell_type": "markdown",
      "metadata": {
        "id": "UNfaMZhWZINM"
      },
      "source": [
        "## Asignación de tareas usando ramificación y poda"
      ]
    },
    {
      "cell_type": "code",
      "metadata": {
        "id": "X5KRSv5dYV3R"
      },
      "source": [
        "# Matriz costes, columna = tarea / fila = agente encargado de tarea\r\n",
        "COSTES = [\r\n",
        "        [11,12,18,40],\r\n",
        "        [14,15,13,22],\r\n",
        "        [11,17,19,23],\r\n",
        "        [17,14,20,28]]"
      ],
      "execution_count": null,
      "outputs": []
    },
    {
      "cell_type": "code",
      "metadata": {
        "colab": {
          "base_uri": "https://localhost:8080/"
        },
        "id": "vcioEXXibUW0",
        "outputId": "4ee1fe67-675d-448c-b3b1-ef41c6f3f203"
      },
      "source": [
        "def valor(S,COSTES):\r\n",
        "    # Función que evalua una solución ya sea parcial o final\r\n",
        "    # Devuelve el coste total después de asignar todas las tareas\r\n",
        "\r\n",
        "    VALOR = 0\r\n",
        "    for i in range(len(S)):\r\n",
        "        VALOR += COSTES[S[i]][i] \r\n",
        "    return VALOR\r\n",
        "\r\n",
        "# Ejemplo:  \r\n",
        "valor((0, 1, 2, 3), COSTES)"
      ],
      "execution_count": null,
      "outputs": [
        {
          "output_type": "execute_result",
          "data": {
            "text/plain": [
              "73"
            ]
          },
          "metadata": {
            "tags": []
          },
          "execution_count": 23
        }
      ]
    },
    {
      "cell_type": "code",
      "metadata": {
        "id": "AP2CLeU4bwPX"
      },
      "source": [
        "def CI(S, COSTES):\r\n",
        "    # Función para calcular la cota inferior para una solución parcial\r\n",
        "\r\n",
        "    VALOR = 0\r\n",
        "    # Valores establecidos\r\n",
        "    for i in range(len(S)):\r\n",
        "        VALOR += COSTES[i][S[i]]\r\n",
        "\r\n",
        "    #Estimación\r\n",
        "    for i in range(len(S), len(COSTES)):\r\n",
        "        VALOR += min([COSTES[j][i] for j in range(len(S), len(COSTES))])\r\n",
        "    \r\n",
        "    return VALOR\r\n",
        "\r\n",
        "\r\n",
        "def CS(S, COSTES):\r\n",
        "    # Función para calcular la cota superior para una solución parcial\r\n",
        "\r\n",
        "    VALOR = 0\r\n",
        "    # Valores establecidos\r\n",
        "    for i in range(len(S)):\r\n",
        "        VALOR += COSTES[i][S[i]]\r\n",
        "\r\n",
        "    #Estimación\r\n",
        "    for i in range(len(S), len(COSTES)):\r\n",
        "        VALOR += max([COSTES[j][i] for j in range(len(S), len(COSTES))])\r\n",
        "    \r\n",
        "    return VALOR"
      ],
      "execution_count": null,
      "outputs": []
    },
    {
      "cell_type": "code",
      "metadata": {
        "id": "loYDenHTdHu2"
      },
      "source": [
        "def crear_hijos(NODO, N):\r\n",
        "    # Función para generar tantos hijos como como opciones haya para el siguiente elemento de la tupla\r\n",
        "    # (0,) -> (0,1), (0,2), (0,3)\r\n",
        "    \r\n",
        "    HIJOS = []\r\n",
        "\r\n",
        "    for i in range(N ):\r\n",
        "        if i not in NODO:\r\n",
        "            HIJOS.append({'s':NODO +(i,)})\r\n",
        "    \r\n",
        "    return HIJOS\r\n"
      ],
      "execution_count": null,
      "outputs": []
    },
    {
      "cell_type": "code",
      "metadata": {
        "colab": {
          "base_uri": "https://localhost:8080/"
        },
        "id": "vx0cHrIpdIEo",
        "outputId": "a80576c8-9cee-419c-aae7-499d9e1ff561"
      },
      "source": [
        "def ramificacion_y_poda(COSTES):\r\n",
        "# Construccion iterativa de soluciones(arbol). En cada etapa asignamos un agente(ramas).\r\n",
        "# Nodos del grafo  { s:(1,2),CI:3,CS:5  }\r\n",
        "\r\n",
        "    DIMENSION = len(COSTES)  \r\n",
        "    MEJOR_SOLUCION = tuple(i for i in range(len(COSTES)))\r\n",
        "    CotaSup = valor(MEJOR_SOLUCION,COSTES)\r\n",
        "    \r\n",
        "    NODOS = []\r\n",
        "    NODOS.append({'s':(),'ci':CI((),COSTES)})\r\n",
        "\r\n",
        "    iteracion = 0\r\n",
        "\r\n",
        "    while(len(NODOS) > 0):\r\n",
        "        iteracion +=1\r\n",
        "\r\n",
        "        nodo_prometedor = [min(NODOS, key = lambda x:x['ci'])][0]['s']\r\n",
        "        \r\n",
        "        # Ramificación, se generan los hijos\r\n",
        "        HIJOS = [{'s':x['s'],'ci':CI(x['s'], COSTES)} for x in crear_hijos(nodo_prometedor, DIMENSION)]\r\n",
        "\r\n",
        "        #Revisamos la cota superior y nos quedamos con la mejor solucion si llegamos a una solucion final\r\n",
        "        NODO_FINAL = [x for x in HIJOS if len(x['s']) == DIMENSION]\r\n",
        "\r\n",
        "        if len(NODO_FINAL ) > 0: \r\n",
        "        #print(\"\\n********Soluciones:\",  [x for x in HIJOS if len(x['s']) == DIMENSION])\r\n",
        "\r\n",
        "            if NODO_FINAL[0]['ci'] < CotaSup:\r\n",
        "                CotaSup = NODO_FINAL[0]['ci']\r\n",
        "                MEJOR_SOLUCION = NODO_FINAL\r\n",
        "    \r\n",
        "        # Aplicamos la poda\r\n",
        "        HIJOS = [x for x in HIJOS if x['ci'] < CotaSup]\r\n",
        "\r\n",
        "        # Añadimos los hijos \r\n",
        "        NODOS.extend(HIJOS) \r\n",
        "\r\n",
        "        # Eliminamos el nodo ramificado\r\n",
        "        NODOS = [x for x in NODOS if x['s'] != nodo_prometedor]\r\n",
        "\r\n",
        "    print(\"La solucion final es:\" ,MEJOR_SOLUCION , \" en \" , iteracion , \" iteraciones\" , \" para dimension: \" , DIMENSION)\r\n",
        "      \r\n",
        "\r\n",
        "\r\n",
        "ramificacion_y_poda(COSTES)"
      ],
      "execution_count": null,
      "outputs": [
        {
          "output_type": "stream",
          "text": [
            "La solucion final es: [{'s': (1, 2, 0, 3), 'ci': 64}]  en  10  iteraciones  para dimension:  4\n"
          ],
          "name": "stdout"
        }
      ]
    },
    {
      "cell_type": "markdown",
      "metadata": {
        "id": "Rh5K2sIsyaYv"
      },
      "source": [
        "## Descenso del gradiente"
      ]
    },
    {
      "cell_type": "code",
      "metadata": {
        "id": "_MyC4RM01qpf"
      },
      "source": [
        "import math\r\n",
        "import matplotlib.pyplot as plt\r\n",
        "import numpy as np\r\n",
        "#import scipy as sc\r\n",
        "import random"
      ],
      "execution_count": 1,
      "outputs": []
    },
    {
      "cell_type": "code",
      "metadata": {
        "id": "bDWLimc4z1dI"
      },
      "source": [
        "# Función paraboloide a utilizar\r\n",
        "f  = lambda X: X[0]**2+X[1]**2\r\n",
        "# Gradiente = derivada de la función\r\n",
        "df = lambda X: [2*X[0], 2*X[1]]"
      ],
      "execution_count": 2,
      "outputs": []
    },
    {
      "cell_type": "code",
      "metadata": {
        "colab": {
          "base_uri": "https://localhost:8080/",
          "height": 281
        },
        "id": "LhGsxZdE0IeR",
        "outputId": "a9bc988d-34bf-412d-e9f2-5c5ffe6af5a0"
      },
      "source": [
        "# Preparación de los datos para dibujar mapa de niveles de Z\r\n",
        "resolucion = 100 \r\n",
        "rango = 2.5\r\n",
        "X = np.linspace(-rango, rango, resolucion) \r\n",
        "Y = np.linspace(-rango, rango, resolucion)\r\n",
        "Z = np.zeros((resolucion, resolucion))\r\n",
        "\r\n",
        "for ix,x in enumerate(X):\r\n",
        "  for iy,y in enumerate(Y):\r\n",
        "    Z[iy,ix] = f([x,y])\r\n",
        "\r\n",
        "# Pinta el mapa de niveles de Z\r\n",
        "plt.contourf(X, Y, Z, resolucion)\r\n",
        "plt.colorbar() \r\n",
        "\r\n",
        "# Generamos un punto aleatorio\r\n",
        "P = [random.uniform(-2, 2), random.uniform(-2, 2)]\r\n",
        "plt.plot(P[0], P[1], \"o\", c = \"white\")\r\n",
        "\r\n",
        "# Tasa de aprendizaje\r\n",
        "TA = .1 \r\n",
        "\r\n",
        "# Iteraciones\r\n",
        "for _ in range(500):\r\n",
        "  grad = df(P)\r\n",
        "  P[0], P[1] = P[0] - TA*grad[0] , P[1] - TA*grad[1]\r\n",
        "  plt.plot(P[0], P[1], \"o\", c = \"red\")\r\n",
        "\r\n",
        "plt.plot(P[0], P[1], \"o\", c = \"green\")\r\n",
        "plt.show()\r\n",
        "print(\"Solucion:\" , P, f(P))"
      ],
      "execution_count": 6,
      "outputs": [
        {
          "output_type": "display_data",
          "data": {
            "image/png": "[encoded data removed]",
            "text/plain": [
              "<Figure size 432x288 with 2 Axes>"
            ]
          },
          "metadata": {
            "tags": [],
            "needs_background": "light"
          }
        },
        {
          "output_type": "stream",
          "text": [
            "Solucion: [6.016530944082383e-49, 4.755111812014888e-50] 3.642475548454849e-97\n"
          ],
          "name": "stdout"
        }
      ]
    }
  ]
}