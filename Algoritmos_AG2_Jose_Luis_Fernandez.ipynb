{
  "nbformat": 4,
  "nbformat_minor": 0,
  "metadata": {
    "colab": {
      "name": "Algoritmos_AG2_Jose_Luis_Fernandez.ipynb",
      "provenance": [],
      "collapsed_sections": [],
      "authorship_tag": "ABX9TyNiv+UKVNFBVCpmoBHk44lF",
      "include_colab_link": true
    },
    "kernelspec": {
      "name": "python3",
      "display_name": "Python 3"
    }
  },
  "cells": [
    {
      "cell_type": "markdown",
      "metadata": {
        "id": "view-in-github",
        "colab_type": "text"
      },
      "source": [
        "<a href=\"https://colab.research.google.com/github/joselufb/03MAIR-Algoritmos-Optimizacion/blob/main/Algoritmos_AG2_Jose_Luis_Fernandez.ipynb\" target=\"_parent\"><img src=\"https://colab.research.google.com/assets/colab-badge.svg\" alt=\"Open In Colab\"/></a>"
      ]
    },
    {
      "cell_type": "markdown",
      "metadata": {
        "id": "2AyKGvGpr8_s"
      },
      "source": [
        "# Algoritmos - Actividad Guiada 2\r\n",
        "\r\n",
        "Nombre: José Luis Fernández Bastida\r\n",
        "\r\n",
        "URL: https://colab.research.google.com/drive/1NZt8mMOPp7hid9A09srmWCJlmHDrzQjm?usp=sharing\r\n",
        "\r\n",
        "GitHub: https://github.com/joselufb/03MAIR-Algoritmos-Optimizacion"
      ]
    },
    {
      "cell_type": "code",
      "metadata": {
        "id": "qARi-1zzsDqg"
      },
      "source": [
        ""
      ],
      "execution_count": null,
      "outputs": []
    }
  ]
}